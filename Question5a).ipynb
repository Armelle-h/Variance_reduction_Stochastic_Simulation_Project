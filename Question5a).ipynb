{
 "cells": [
  {
   "cell_type": "code",
   "execution_count": 4,
   "metadata": {},
   "outputs": [
    {
     "data": {
      "text/plain": [
       "'\\n#Plot the results\\nprint(\"Time values:\", t_values)\\nprint(\"Solution values:\")\\nprint(y_values)\\n\\nplt.plot(t_values, y_values[:, 0], label=\\'v\\')\\nplt.plot(t_values, y_values[:, 1], label=\\'w\\')\\nplt.xlabel(\\'Time\\')\\nplt.ylabel(\\'Solution values\\')\\nplt.legend()\\nplt.show()\\n'"
      ]
     },
     "execution_count": 4,
     "metadata": {},
     "output_type": "execute_result"
    }
   ],
   "source": [
    "import numpy as np\n",
    "import random\n",
    "import matplotlib.pyplot as plt\n",
    "\n",
    "\n",
    "#Solve the system using Forward Euler method\n",
    "#f is the system we solve\n",
    "#y0 is the initial state of the system : y(t=0)\n",
    "#t_span is the discretization of the interval we work on\n",
    "#h is the step from t_n to t_{n+1}\n",
    "def forward_euler_system(f, y0, t_span, h):\n",
    "    t_values = np.arange(t_span[0], t_span[1] + h, h)\n",
    "    y_values = [y0]\n",
    "\n",
    "    for t in t_values[:-1]:\n",
    "        y_next = y_values[-1] + h * np.array(f(t, y_values[-1]))\n",
    "        y_values.append(y_next)\n",
    "\n",
    "    return t_values, np.array(y_values)\n",
    "\n",
    "\n",
    "# Define the system of ODEs as a function f(t, y)\n",
    "#t denotes the time and y is the vector of variabless\n",
    "def f(t, y):\n",
    "    a=random.uniform(0.6, 0.8)\n",
    "    b=random.uniform(0.7,0.9)\n",
    "    eps=0.08\n",
    "    I=1\n",
    "    dy1_dt = y[0] - (y[0]**3)/3 - y[1]+I\n",
    "    dy2_dt = eps*(y[0] + a - b*y[1])\n",
    "    return [dy1_dt, dy2_dt]\n",
    "\n",
    "# Initial values\n",
    "y0 = [0, 0]\n",
    "\n",
    "# Time span and step size\n",
    "t_span = [0, 10]\n",
    "h = 0.01\n",
    "\n",
    "\n",
    "\n",
    "# Solve the system using forward Euler\n",
    "t_values, y_values = forward_euler_system(f, y0, t_span, h)\n",
    "\n",
    "#Plot the results\n",
    "print(\"Time values:\", t_values)\n",
    "print(\"Solution values:\")\n",
    "print(y_values)\n",
    "\n",
    "plt.plot(t_values, y_values[:, 0], label='v')\n",
    "plt.plot(t_values, y_values[:, 1], label='w')\n",
    "plt.xlabel('Time')\n",
    "plt.ylabel('Solution values')\n",
    "plt.legend()\n",
    "plt.show()\n"
   ]
  },
  {
   "cell_type": "code",
   "execution_count": 5,
   "metadata": {},
   "outputs": [
    {
     "data": {
      "text/plain": [
       "\"\\n# Plot the results\\nplt.plot(t_values, y_values[0], label='v')\\nplt.plot(t_values, y_values[1], label='w')\\nplt.xlabel('Time')\\nplt.ylabel('Solution values')\\nplt.legend()\\nplt.show()\\n\""
      ]
     },
     "execution_count": 5,
     "metadata": {},
     "output_type": "execute_result"
    }
   ],
   "source": [
    "import numpy as np\n",
    "from scipy.integrate import solve_ivp\n",
    "import matplotlib.pyplot as plt\n",
    "import random\n",
    "\n",
    "\n",
    "\n",
    "# Define the system of ODEs\n",
    "def f(t, y):\n",
    "    a=random.uniform(0.6, 0.8)\n",
    "    b=random.uniform(0.7,0.9)\n",
    "    eps=0.08\n",
    "    I=1\n",
    "    dy1_dt = y[0] - (y[0]**3)/3 - y[1]+I\n",
    "    dy2_dt = eps*(y[0] + a - b*y[1])\n",
    "    return [dy1_dt, dy2_dt]\n",
    "\n",
    "# Set initial conditions\n",
    "y0 = [0, 0]\n",
    "\n",
    "# Set the time points at which to solve the ODEs\n",
    "t = np.linspace(0, 10, 1000)\n",
    "t_span=[0,10]\n",
    "\n",
    "\n",
    "# Solve the ODEs\n",
    "solution = solve_ivp(f, t_span, y0,'BDF',t)\n",
    "\n",
    "# Extract results for plotting or further analysis\n",
    "t_values = solution.t\n",
    "y_values = solution.y\n",
    "\n",
    "\n",
    "# Plot the results\n",
    "plt.plot(t_values, y_values[0], label='v')\n",
    "plt.plot(t_values, y_values[1], label='w')\n",
    "plt.xlabel('Time')\n",
    "plt.ylabel('Solution values')\n",
    "plt.legend()\n",
    "plt.show()\n"
   ]
  }
 ],
 "metadata": {
  "kernelspec": {
   "display_name": "Python 3",
   "language": "python",
   "name": "python3"
  },
  "language_info": {
   "codemirror_mode": {
    "name": "ipython",
    "version": 3
   },
   "file_extension": ".py",
   "mimetype": "text/x-python",
   "name": "python",
   "nbconvert_exporter": "python",
   "pygments_lexer": "ipython3",
   "version": "3.11.0"
  }
 },
 "nbformat": 4,
 "nbformat_minor": 2
}
