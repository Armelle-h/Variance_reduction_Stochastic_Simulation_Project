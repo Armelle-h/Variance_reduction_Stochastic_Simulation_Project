{
 "cells": [
  {
   "cell_type": "code",
   "execution_count": 1,
   "id": "ed647660",
   "metadata": {},
   "outputs": [],
   "source": [
    "import numpy as np\n",
    "import matplotlib.pyplot as plt\n",
    "import numpy.polynomial.legendre as L #using the numpy module to generate the legendre polynomials\n",
    "from scipy.stats import beta\n",
    "from helpers_1 import *"
   ]
  },
  {
   "cell_type": "code",
   "execution_count": 13,
   "id": "66727d2a",
   "metadata": {},
   "outputs": [
    {
     "name": "stdout",
     "output_type": "stream",
     "text": [
      "1.6702815093339465 1.5172647618203083\n"
     ]
    }
   ],
   "source": [
    "M=5000\n",
    "\n",
    "N=50\n",
    "\n",
    "seed=9009\n",
    "\n",
    "X=np.random.uniform(0, 1, size=M)\n",
    "\n",
    "_, cond=coefficient(M, N, seed)\n",
    "\n",
    "_, cond_2=coefficient_importance(M, N, seed)\n",
    "\n",
    "print(cond, cond_2)"
   ]
  },
  {
   "cell_type": "code",
   "execution_count": 14,
   "id": "8f1264bf",
   "metadata": {},
   "outputs": [
    {
     "name": "stdout",
     "output_type": "stream",
     "text": [
      "8.949456122362252 1.6024505343376811 2.107011234057886\n"
     ]
    }
   ],
   "source": [
    "X_tilde= gen_from_w(N, M, seed)\n",
    "\n",
    "V, _=V_mat(M, N, X)\n",
    "    \n",
    "W_tilde=np.diag([np.sqrt(w(x_tilde, N)) for x_tilde in X_tilde])\n",
    "\n",
    "print(np.linalg.cond(W_tilde), np.linalg.cond(V), np.linalg.cond(W_tilde@V))"
   ]
  },
  {
   "cell_type": "code",
   "execution_count": 15,
   "id": "5f5dcc2a",
   "metadata": {},
   "outputs": [
    {
     "data": {
      "text/plain": [
       "array([3.99293143e-01, 2.51030162e-01, 6.83493423e-01, ...,\n",
       "       9.84388254e-01, 2.09783488e-04, 9.96862023e-01])"
      ]
     },
     "execution_count": 15,
     "metadata": {},
     "output_type": "execute_result"
    }
   ],
   "source": [
    "X_tilde"
   ]
  },
  {
   "cell_type": "code",
   "execution_count": 17,
   "id": "57d2ce34",
   "metadata": {},
   "outputs": [
    {
     "name": "stdout",
     "output_type": "stream",
     "text": [
      "[1.54259143 1.37724855 1.4487884  ... 0.40380005 0.03364637 0.18110709] [ 0.64825979  0.72608535  0.69023192 ...  2.47647317 29.72089088\n",
      "  5.52159503]\n"
     ]
    }
   ],
   "source": [
    "print(w(X_tilde, N), pdf_1_w(X_tilde, N) )"
   ]
  },
  {
   "cell_type": "code",
   "execution_count": null,
   "id": "6f5277c3",
   "metadata": {},
   "outputs": [],
   "source": []
  }
 ],
 "metadata": {
  "kernelspec": {
   "display_name": "Python 3 (ipykernel)",
   "language": "python",
   "name": "python3"
  },
  "language_info": {
   "codemirror_mode": {
    "name": "ipython",
    "version": 3
   },
   "file_extension": ".py",
   "mimetype": "text/x-python",
   "name": "python",
   "nbconvert_exporter": "python",
   "pygments_lexer": "ipython3",
   "version": "3.11.5"
  }
 },
 "nbformat": 4,
 "nbformat_minor": 5
}
